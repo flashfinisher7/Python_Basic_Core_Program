{
 "cells": [
  {
   "cell_type": "code",
   "execution_count": 1,
   "id": "04ebda23",
   "metadata": {},
   "outputs": [
    {
     "data": {
      "image/png": "[encoded data removed]",
      "text/plain": [
       "<Figure size 432x288 with 1 Axes>"
      ]
     },
     "metadata": {
      "needs_background": "light"
     },
     "output_type": "display_data"
    }
   ],
   "source": [
    "\"\"\"\n",
    "@Author: Anil\n",
    "@Date: 2021-10-08   02:42\n",
    "@Last Modified by: Anil\n",
    "@Last Modified time: 2021-10-08   02:50\n",
    "@Title : program to plot several lines with different format styles in one command\n",
    "using arrays.\n",
    "\"\"\"\n",
    "import numpy as np\n",
    "import matplotlib.pyplot as plt\n",
    "# Sampled time at 200ms intervals\n",
    "t = np.arange(0., 5., 0.2)\n",
    "# green dashes, blue squares and red triangles\n",
    "plt.plot(t, t, 'g--', t, t**2, 'bs', t, t**3, 'r^')\n",
    "plt.show()"
   ]
  },
  {
   "cell_type": "code",
   "execution_count": null,
   "id": "490a58bd",
   "metadata": {},
   "outputs": [],
   "source": []
  }
 ],
 "metadata": {
  "kernelspec": {
   "display_name": "Python 3",
   "language": "python",
   "name": "python3"
  },
  "language_info": {
   "codemirror_mode": {
    "name": "ipython",
    "version": 3
   },
   "file_extension": ".py",
   "mimetype": "text/x-python",
   "name": "python",
   "nbconvert_exporter": "python",
   "pygments_lexer": "ipython3",
   "version": "3.8.8"
  }
 },
 "nbformat": 4,
 "nbformat_minor": 5
}
