{
 "cells": [
  {
   "cell_type": "code",
   "execution_count": null,
   "id": "19913314",
   "metadata": {},
   "outputs": [],
   "source": [
    "\"\"\"\n",
    "@Author: Anil\n",
    "@Date: 2021-10-08   12:15\n",
    "@Last Modified by: Anil\n",
    "@Last Modified time: 2021-10-08   12:30\n",
    "@Title :  program to plot two or more lines with different styles\n",
    "\n",
    "\"\"\"\n",
    "import matplotlib.pyplot as plt\n",
    "# line 1 points\n",
    "x1 = [10,20,30]\n",
    "y1 = [20,40,10]\n",
    "# line 2 points\n",
    "x2 = [10,20,30]\n",
    "y2 = [40,10,30]\n",
    "# Set the x axis label of the current axis.\n",
    "plt.xlabel('x - axis')\n",
    "# Set the y axis label of the current axis.\n",
    "plt.ylabel('y - axis')\n",
    "# Plot lines and/or markers to the Axes.\n",
    "plt.plot(x1,y1, color='blue', linewidth = 3,  label = 'line1-dotted',linestyle='dotted')\n",
    "plt.plot(x2,y2, color='red', linewidth = 5,  label = 'line2-dashed', linestyle='dashed')\n",
    "# Set a title \n",
    "plt.title(\"Plot with two or more lines with different styles\")\n",
    "# show a legend on the plot\n",
    "plt.legend()\n",
    "# function to show the plot\n",
    "plt.show()\n"
   ]
  }
 ],
 "metadata": {
  "kernelspec": {
   "display_name": "Python 3",
   "language": "python",
   "name": "python3"
  },
  "language_info": {
   "codemirror_mode": {
    "name": "ipython",
    "version": 3
   },
   "file_extension": ".py",
   "mimetype": "text/x-python",
   "name": "python",
   "nbconvert_exporter": "python",
   "pygments_lexer": "ipython3",
   "version": "3.8.8"
  }
 },
 "nbformat": 4,
 "nbformat_minor": 5
}
