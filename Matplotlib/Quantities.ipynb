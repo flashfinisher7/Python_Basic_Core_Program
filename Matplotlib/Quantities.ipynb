{
 "cells": [
  {
   "cell_type": "code",
   "execution_count": 2,
   "id": "5a6a31fd",
   "metadata": {},
   "outputs": [
    {
     "data": {
      "image/png": "[encoded data removed]",
      "text/plain": [
       "<Figure size 432x288 with 1 Axes>"
      ]
     },
     "metadata": {
      "needs_background": "light"
     },
     "output_type": "display_data"
    }
   ],
   "source": [
    "\"\"\"\n",
    "@Author: Anil\n",
    "@Date: 2021-10-08   01:15\n",
    "@Last Modified by: Anil\n",
    "@Last Modified time: 2021-10-08   01:28\n",
    "@Title : program to plot quantities which have an x and y position\n",
    "\"\"\"\n",
    "import numpy as np\n",
    "import pylab as pl\n",
    "# Make an array of x values\n",
    "x1 = [2, 3, 5, 6, 8]\n",
    "# Make an array of y values for each x value\n",
    "y1 = [1, 5, 10, 18, 20]\n",
    "# Make an array of x values\n",
    "x2 = [3, 4, 6, 7, 9]\n",
    "# Make an array of y values for each x value\n",
    "y2 = [2, 6, 11, 20, 22]\n",
    "# set new axes limits\n",
    "pl.axis([0, 10, 0, 30]) \n",
    "# use pylab to plot x and y as red circles\n",
    "pl.plot(x1, y1,'b*', x2, y2, 'ro')\n",
    "# show the plot on the screen\n",
    "pl.show()"
   ]
  },
  {
   "cell_type": "code",
   "execution_count": null,
   "id": "83ca47c9",
   "metadata": {},
   "outputs": [],
   "source": []
  }
 ],
 "metadata": {
  "kernelspec": {
   "display_name": "Python 3",
   "language": "python",
   "name": "python3"
  },
  "language_info": {
   "codemirror_mode": {
    "name": "ipython",
    "version": 3
   },
   "file_extension": ".py",
   "mimetype": "text/x-python",
   "name": "python",
   "nbconvert_exporter": "python",
   "pygments_lexer": "ipython3",
   "version": "3.8.8"
  }
 },
 "nbformat": 4,
 "nbformat_minor": 5
}
