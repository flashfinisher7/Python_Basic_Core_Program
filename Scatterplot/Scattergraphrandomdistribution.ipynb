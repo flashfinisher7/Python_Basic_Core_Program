{
 "cells": [
  {
   "cell_type": "code",
   "execution_count": null,
   "id": "005faf05",
   "metadata": {},
   "outputs": [],
   "source": [
    "\"\"\"\n",
    "@Author: Anil\n",
    "@Date: 2021-10-08   09:00\n",
    "@Last Modified by: Anil\n",
    "@Last Modified time: 2021-10-08   09:20\n",
    "@Title :  program to draw a scatter graph taking a random distribution in X and Y and\n",
    "plotted against each other\n",
    "\"\"\"\n",
    "import matplotlib.pyplot as plt\n",
    "from pylab import randn\n",
    "X = randn(200)\n",
    "Y = randn(200)\n",
    "plt.scatter(X,Y, color='r')\n",
    "plt.xlabel(\"X\")\n",
    "plt.ylabel(\"Y\")\n",
    "plt.show()"
   ]
  }
 ],
 "metadata": {
  "kernelspec": {
   "display_name": "Python 3",
   "language": "python",
   "name": "python3"
  },
  "language_info": {
   "codemirror_mode": {
    "name": "ipython",
    "version": 3
   },
   "file_extension": ".py",
   "mimetype": "text/x-python",
   "name": "python",
   "nbconvert_exporter": "python",
   "pygments_lexer": "ipython3",
   "version": "3.8.8"
  }
 },
 "nbformat": 4,
 "nbformat_minor": 5
}
